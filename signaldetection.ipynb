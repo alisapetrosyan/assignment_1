{
 "cells": [
  {
   "cell_type": "code",
   "execution_count": null,
   "id": "a517b0e5",
   "metadata": {
    "scrolled": true
   },
   "outputs": [],
   "source": []
  },
  {
   "cell_type": "code",
   "execution_count": 43,
   "id": "c2481df4",
   "metadata": {},
   "outputs": [
    {
     "name": "stderr",
     "output_type": "stream",
     "text": [
      "....\n",
      "----------------------------------------------------------------------\n",
      "Ran 4 tests in 0.311s\n",
      "\n",
      "OK\n"
     ]
    }
   ],
   "source": [
    "import unittest\n",
    "import numpy as np\n",
    "import scipy \n",
    "from scipy import stats\n",
    "from scipy.stats import norm\n",
    "import math\n",
    "import matplotlib.pyplot as plt\n",
    "\n",
    "\n",
    "\n",
    "class SignalDetection:\n",
    "    def __init__(self, hits, misses, falseAlarms, correctRejections):\n",
    "        self.hits = hits\n",
    "        self.misses = misses\n",
    "        self.falseAlarms = falseAlarms\n",
    "        self.correctRejections= correctRejections\n",
    "        self.H = (hits / (hits + misses))\n",
    "        self.FA = (falseAlarms / (falseAlarms + correctRejections))\n",
    "\n",
    "   \n",
    "    def d_prime(self):\n",
    "          return (norm.ppf(self.H)) - (norm.ppf(self.FA))\n",
    "    \n",
    "    def criterion(self):\n",
    "        return (-0.5) * ((norm.ppf(self.H) + norm.ppf(self.FA)))\n",
    "                              \n",
    "class TestSignalDetection(unittest.TestCase):\n",
    "    def test_d_prime_zero(self):\n",
    "        sd   = SignalDetection(15, 5, 15, 5)\n",
    "        expected = 0\n",
    "        obtained = sd.d_prime()\n",
    "        # Compare calculated and expected d-prime\n",
    "        self.assertAlmostEqual(obtained, expected, places=6)\n",
    "    def test_d_prime_nonzero(self):\n",
    "        sd   = SignalDetection(15, 10, 15, 5)\n",
    "        expected = -0.421142647060282\n",
    "        obtained = sd.d_prime()\n",
    "        # Compare calculated and expected d-prime\n",
    "        self.assertAlmostEqual(obtained, expected, places=6)\n",
    "    def test_criterion_zero(self):\n",
    "        sd   = SignalDetection(5, 5, 5, 5)\n",
    "        # Calculate expected criterion        \n",
    "        expected = 0\n",
    "        obtained = sd.criterion()\n",
    "        # Compare calculated and expected criterion\n",
    "        self.assertAlmostEqual(obtained, expected, places=6)\n",
    "    def test_criterion_nonzero(self):\n",
    "        sd   = SignalDetection(15, 10, 15, 5)\n",
    "        # Calculate expected criterion        \n",
    "        expected = -0.463918426665941\n",
    "        obtained = sd.criterion()\n",
    "        # Compare calculated and expected criterion\n",
    "        self.assertAlmostEqual(obtained, expected, places=6)\n",
    "        \n",
    "if __name__ == '__main__':\n",
    "    unittest.main(argv=['first-arg-is-ignored'], exit= False)\n",
    "    \n"
   ]
  },
  {
   "cell_type": "code",
   "execution_count": null,
   "id": "fcad5f4e",
   "metadata": {},
   "outputs": [],
   "source": []
  },
  {
   "cell_type": "code",
   "execution_count": null,
   "id": "8c50884a",
   "metadata": {},
   "outputs": [],
   "source": []
  }
 ],
 "metadata": {
  "kernelspec": {
   "display_name": "Python 3 (ipykernel)",
   "language": "python",
   "name": "python3"
  },
  "language_info": {
   "codemirror_mode": {
    "name": "ipython",
    "version": 3
   },
   "file_extension": ".py",
   "mimetype": "text/x-python",
   "name": "python",
   "nbconvert_exporter": "python",
   "pygments_lexer": "ipython3",
   "version": "3.9.12"
  }
 },
 "nbformat": 4,
 "nbformat_minor": 5
}
